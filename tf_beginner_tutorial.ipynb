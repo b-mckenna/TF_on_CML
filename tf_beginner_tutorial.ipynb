{
 "cells": [
  {
   "cell_type": "code",
   "execution_count": 111,
   "id": "f72a5de8",
   "metadata": {},
   "outputs": [],
   "source": [
    "# Source: https://www.tensorflow.org/tutorials/quickstart/beginner"
   ]
  },
  {
   "cell_type": "code",
   "execution_count": 112,
   "id": "81e2a0cc",
   "metadata": {},
   "outputs": [
    {
     "name": "stdout",
     "output_type": "stream",
     "text": [
      "The tensorboard extension is already loaded. To reload it, use:\n",
      "  %reload_ext tensorboard\n"
     ]
    }
   ],
   "source": [
    "%load_ext tensorboard\n",
    "import tensorflow as tf \n",
    "import datetime\n",
    "import time\n",
    "\n",
    "# Clear any logs from previous runs\n",
    "! rm -rf ./logs/\n"
   ]
  },
  {
   "cell_type": "code",
   "execution_count": 113,
   "id": "fe59ca39",
   "metadata": {},
   "outputs": [],
   "source": [
    "# Import the mnist dataset"
   ]
  },
  {
   "cell_type": "code",
   "execution_count": 114,
   "id": "c87c4266",
   "metadata": {},
   "outputs": [],
   "source": [
    "mnist = tf.keras.datasets.mnist\n",
    "\n",
    "(x_train, y_train), (x_test, y_test) = mnist.load_data()\n",
    "x_train, x_test = x_train / 255.0, x_test / 255.0"
   ]
  },
  {
   "cell_type": "code",
   "execution_count": 115,
   "id": "b97b73cd",
   "metadata": {},
   "outputs": [],
   "source": [
    "# Build the tf.keras.Sequential model by stacking layers. Choose an optimizer and loss function for training:\n",
    "\n",
    "model = tf.keras.models.Sequential([\n",
    "  tf.keras.layers.Flatten(input_shape=(28, 28)),\n",
    "  tf.keras.layers.Dense(128, activation='relu'),\n",
    "  tf.keras.layers.Dropout(0.2),\n",
    "  tf.keras.layers.Dense(10)\n",
    "])"
   ]
  },
  {
   "cell_type": "code",
   "execution_count": 116,
   "id": "98fa383d",
   "metadata": {},
   "outputs": [
    {
     "data": {
      "text/plain": [
       "array([[ 0.67502666,  0.73401946,  0.2616675 , -0.61586   ,  0.49298626,\n",
       "         0.20569378, -0.46536547,  0.7029633 ,  0.13632685, -0.35649505]],\n",
       "      dtype=float32)"
      ]
     },
     "execution_count": 116,
     "metadata": {},
     "output_type": "execute_result"
    }
   ],
   "source": [
    "# For each example the model returns a vector of \"logits\" or \"log-odds\" scores, one for each class.\n",
    "\n",
    "\n",
    "predictions = model(x_train[:1]).numpy()\n",
    "predictions"
   ]
  },
  {
   "cell_type": "code",
   "execution_count": 117,
   "id": "8a16df6c",
   "metadata": {},
   "outputs": [],
   "source": [
    "# The tf.nn.softmax function converts these logits to \"probabilities\" for each class:\n",
    "tf.nn.softmax(predictions).numpy()\n",
    "\n",
    "# The losses.SparseCategoricalCrossentropy loss takes a vector of logits and a True index and returns a scalar loss for each example.\n",
    "loss_fn = tf.keras.losses.SparseCategoricalCrossentropy(from_logits=True)"
   ]
  },
  {
   "cell_type": "code",
   "execution_count": 118,
   "id": "c1c0de7a",
   "metadata": {},
   "outputs": [],
   "source": [
    "# This loss is equal to the negative log probability of the true class: It is zero if the model is sure of the correct class.\n",
    "# This untrained model gives probabilities close to random (1/10 for each class), so the initial loss should be close to -tf.math.log(1/10) ~= 2.3.\n"
   ]
  },
  {
   "cell_type": "code",
   "execution_count": 119,
   "id": "35299ab3",
   "metadata": {},
   "outputs": [],
   "source": [
    "loss_fn(y_train[:1], predictions).numpy()\n",
    "\n",
    "model.compile(optimizer='adam',\n",
    "              loss=loss_fn,\n",
    "              metrics=['accuracy'])"
   ]
  },
  {
   "cell_type": "code",
   "execution_count": 120,
   "id": "5cb5d71a",
   "metadata": {},
   "outputs": [],
   "source": [
    "# Log stats"
   ]
  },
  {
   "cell_type": "code",
   "execution_count": 121,
   "id": "83a6dc84",
   "metadata": {},
   "outputs": [],
   "source": [
    "log_dir = \"logs/fit/\" + datetime.datetime.now().strftime(\"%Y%m%d-%H%M%S\")\n",
    "tensorboard_callback = tf.keras.callbacks.TensorBoard(log_dir=log_dir, histogram_freq=1)\n"
   ]
  },
  {
   "cell_type": "code",
   "execution_count": 122,
   "id": "ce944a40",
   "metadata": {},
   "outputs": [],
   "source": [
    "# The Model.fit method adjusts the model parameters to minimize the loss:"
   ]
  },
  {
   "cell_type": "code",
   "execution_count": 131,
   "id": "84479b01",
   "metadata": {},
   "outputs": [
    {
     "name": "stdout",
     "output_type": "stream",
     "text": [
      "Epoch 1/5\n",
      "   1/1875 [..............................] - ETA: 10s - loss: 0.0079 - accuracy: 1.0000ERROR:tensorflow:Failed to start profiler: Another profiler is running.\n",
      "1875/1875 [==============================] - 4s 2ms/step - loss: 0.0652 - accuracy: 0.9790\n",
      "Epoch 2/5\n",
      "1875/1875 [==============================] - 4s 2ms/step - loss: 0.0581 - accuracy: 0.9814: 0s\n",
      "Epoch 3/5\n",
      "1875/1875 [==============================] - 4s 2ms/step - loss: 0.0517 - accuracy: 0.9833\n",
      "Epoch 4/5\n",
      "1875/1875 [==============================] - 5s 2ms/step - loss: 0.0465 - accuracy: 0.9844\n",
      "Epoch 5/5\n",
      "1875/1875 [==============================] - 5s 3ms/step - loss: 0.0432 - accuracy: 0.9853\n"
     ]
    }
   ],
   "source": [
    "# tf.profiler.experimental.start('logdir')\n",
    "# Train the model here\n",
    "tic = time.clock()\n",
    "\n",
    "model.fit(x_train, y_train, epochs=5,callbacks=[tensorboard_callback])\n",
    "\n",
    "toc = time.clock()\n",
    "\n",
    "# tf.profiler.experimental.stop()"
   ]
  },
  {
   "cell_type": "code",
   "execution_count": 124,
   "id": "4ea63319",
   "metadata": {},
   "outputs": [
    {
     "name": "stdout",
     "output_type": "stream",
     "text": [
      "33.86 seconds\n"
     ]
    }
   ],
   "source": [
    "print(float(\"{0:.2f}\".format(toc-tic)),\"seconds\")"
   ]
  },
  {
   "cell_type": "code",
   "execution_count": 125,
   "id": "ce10dd8e",
   "metadata": {},
   "outputs": [],
   "source": [
    "# The Model.evaluate method checks the models performance, usually on a \"Validation-set\" or \"Test-set\"."
   ]
  },
  {
   "cell_type": "code",
   "execution_count": 126,
   "id": "fa562d34",
   "metadata": {},
   "outputs": [
    {
     "name": "stdout",
     "output_type": "stream",
     "text": [
      "313/313 - 0s - loss: 0.0870 - accuracy: 0.9737\n"
     ]
    },
    {
     "data": {
      "text/plain": [
       "[0.08699800074100494, 0.9736999869346619]"
      ]
     },
     "execution_count": 126,
     "metadata": {},
     "output_type": "execute_result"
    }
   ],
   "source": [
    "model.evaluate(x_test,  y_test, verbose=2)"
   ]
  },
  {
   "cell_type": "code",
   "execution_count": 127,
   "id": "34265070",
   "metadata": {},
   "outputs": [],
   "source": [
    "# The image classifier is now trained to ~98% accuracy on this dataset. To learn more, read the TensorFlow tutorials.\n",
    "\n",
    "# If you want your model to return a probability, you can wrap the trained model, and attach the softmax to it:"
   ]
  },
  {
   "cell_type": "code",
   "execution_count": 128,
   "id": "b72cb8f2",
   "metadata": {},
   "outputs": [],
   "source": [
    "probability_model = tf.keras.Sequential([\n",
    "  model,\n",
    "  tf.keras.layers.Softmax()\n",
    "])"
   ]
  },
  {
   "cell_type": "code",
   "execution_count": 129,
   "id": "45a6031d",
   "metadata": {},
   "outputs": [
    {
     "data": {
      "text/plain": [
       "<tf.Tensor: shape=(5, 10), dtype=float32, numpy=\n",
       "array([[5.4603664e-08, 5.8867639e-10, 3.4321088e-06, 4.1967203e-05,\n",
       "        3.6607245e-12, 3.1187793e-07, 5.2247872e-12, 9.9994731e-01,\n",
       "        1.8689356e-07, 6.7084929e-06],\n",
       "       [5.6127383e-09, 1.5357346e-05, 9.9998379e-01, 8.7615700e-07,\n",
       "        3.8757056e-15, 3.1008489e-09, 1.2924369e-08, 1.3505268e-14,\n",
       "        1.9906135e-08, 1.7546664e-13],\n",
       "       [3.5821545e-06, 9.9796778e-01, 1.2765345e-04, 2.1615151e-05,\n",
       "        2.8039937e-04, 5.2750340e-05, 4.0016839e-05, 1.3735784e-03,\n",
       "        1.3116187e-04, 1.4678481e-06],\n",
       "       [9.9994779e-01, 8.4205587e-10, 2.1441263e-05, 1.7454579e-07,\n",
       "        4.3389807e-07, 4.6268977e-07, 8.6404543e-06, 2.4642393e-06,\n",
       "        2.2708899e-09, 1.8564007e-05],\n",
       "       [4.2639692e-07, 1.3753933e-10, 1.8468718e-07, 8.2872864e-09,\n",
       "        9.9376923e-01, 2.1730143e-08, 2.2553579e-06, 5.9943581e-05,\n",
       "        4.6400026e-09, 6.1678616e-03]], dtype=float32)>"
      ]
     },
     "execution_count": 129,
     "metadata": {},
     "output_type": "execute_result"
    }
   ],
   "source": [
    "probability_model(x_test[:5])\n"
   ]
  },
  {
   "cell_type": "code",
   "execution_count": 130,
   "id": "6001364d",
   "metadata": {},
   "outputs": [
    {
     "data": {
      "text/plain": [
       "Reusing TensorBoard on port 6007 (pid 9809), started 2:54:27 ago. (Use '!kill 9809' to kill it.)"
      ]
     },
     "metadata": {},
     "output_type": "display_data"
    },
    {
     "data": {
      "text/html": [
       "\n",
       "      <iframe id=\"tensorboard-frame-44ca8a982d77e585\" width=\"100%\" height=\"800\" frameborder=\"0\">\n",
       "      </iframe>\n",
       "      <script>\n",
       "        (function() {\n",
       "          const frame = document.getElementById(\"tensorboard-frame-44ca8a982d77e585\");\n",
       "          const url = new URL(\"/\", window.location);\n",
       "          const port = 6007;\n",
       "          if (port) {\n",
       "            url.port = port;\n",
       "          }\n",
       "          frame.src = url;\n",
       "        })();\n",
       "      </script>\n",
       "    "
      ],
      "text/plain": [
       "<IPython.core.display.HTML object>"
      ]
     },
     "metadata": {},
     "output_type": "display_data"
    }
   ],
   "source": [
    "%tensorboard --logdir logs/fit"
   ]
  },
  {
   "cell_type": "code",
   "execution_count": null,
   "id": "3beaa8a6",
   "metadata": {},
   "outputs": [],
   "source": []
  }
 ],
 "metadata": {
  "kernelspec": {
   "display_name": "Python 3",
   "language": "python",
   "name": "python3"
  },
  "language_info": {
   "codemirror_mode": {
    "name": "ipython",
    "version": 3
   },
   "file_extension": ".py",
   "mimetype": "text/x-python",
   "name": "python",
   "nbconvert_exporter": "python",
   "pygments_lexer": "ipython3",
   "version": "3.6.4"
  }
 },
 "nbformat": 4,
 "nbformat_minor": 5
}
